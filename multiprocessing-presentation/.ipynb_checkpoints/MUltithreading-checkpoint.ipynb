{
 "cells": [
  {
   "cell_type": "markdown",
   "metadata": {
    "slideshow": {
     "slide_type": "slide"
    }
   },
   "source": [
    "# Multithreading"
   ]
  },
  {
   "cell_type": "code",
   "execution_count": 1,
   "metadata": {
    "slideshow": {
     "slide_type": "slide"
    }
   },
   "outputs": [
    {
     "name": "stdout",
     "output_type": "stream",
     "text": [
      "Calculate square numbers\n",
      "square : 4\n",
      "square : 16\n",
      "square : 36\n",
      "square : 64\n",
      "calculate cube of numbers\n",
      "cube : 8\n",
      "cube : 64\n",
      "cube : 216\n",
      "cube : 512\n",
      "('In time : ', 1.6096158027648926)\n",
      "Completed\n"
     ]
    }
   ],
   "source": [
    "\n",
    "import time \n",
    "\n",
    "def cal_square(num):\n",
    "    print(\"Calculate square numbers\")\n",
    "    for n in num:\n",
    "        time.sleep(0.2)\n",
    "        print (\"square : {}\".format(n*n))\n",
    "        \n",
    "def cal_cube(num):\n",
    "    print(\"calculate cube of numbers\")\n",
    "    for n in num:\n",
    "        time.sleep(0.2)\n",
    "        print(\"cube : {}\".format(n*n*n))\n",
    "        \n",
    "arr = [2,4,6,8]\n",
    "\n",
    "t = time.time() #current time\n",
    "\n",
    "cal_square(arr)\n",
    "cal_cube(arr)\n",
    "\n",
    "print(\"In time : \",time.time()-t) #time required to excecuation\n",
    "\n",
    "print(\"Completed\")"
   ]
  },
  {
   "cell_type": "code",
   "execution_count": 2,
   "metadata": {
    "slideshow": {
     "slide_type": "slide"
    }
   },
   "outputs": [
    {
     "name": "stdout",
     "output_type": "stream",
     "text": [
      "Calculate square numbers\n",
      "calculate cube of numbers\n",
      "square : 4\n",
      "cube : 8\n",
      "square : 16\n",
      "cube : 64\n",
      "square : 36\n",
      "cube : 216\n",
      "square : 64\n",
      "cube : 512\n",
      "('In time : ', 0.8283238410949707)\n",
      "Completed\n"
     ]
    }
   ],
   "source": [
    "import time \n",
    "\n",
    "import threading \n",
    "\n",
    "def cal_square(num):\n",
    "    print(\"Calculate square numbers\")\n",
    "    for n in num:\n",
    "        time.sleep(0.2)\n",
    "        print (\"square : {}\".format(n*n))\n",
    "        \n",
    "def cal_cube(num):\n",
    "    print(\"calculate cube of numbers\")\n",
    "    for n in num:\n",
    "        time.sleep(0.2)\n",
    "        print(\"cube : {}\".format(n*n*n))\n",
    "        \n",
    "arr = [2,4,6,8]\n",
    "\n",
    "t = time.time() #current time\n",
    "\n",
    "t1 = threading.Thread(target = cal_square , args=(arr,))  #creat th1\n",
    "t2 = threading.Thread(target = cal_cube , args=(arr,))   #creat th2\n",
    "\n",
    "t1.start()           #start the thread\n",
    "t2.start()\n",
    "\n",
    "t1.join()          #wait until thread completed\n",
    "t2.join()\n",
    "\n",
    "\n",
    "print(\"In time : \",time.time()-t) #time required to excecuation\n",
    "\n",
    "print(\"Completed\")"
   ]
  }
 ],
 "metadata": {
  "celltoolbar": "Slideshow",
  "kernelspec": {
   "display_name": "Python 3",
   "language": "python",
   "name": "python3"
  },
  "language_info": {
   "codemirror_mode": {
    "name": "ipython",
    "version": 2
   },
   "file_extension": ".py",
   "mimetype": "text/x-python",
   "name": "python",
   "nbconvert_exporter": "python",
   "pygments_lexer": "ipython2",
   "version": "2.7.13"
  }
 },
 "nbformat": 4,
 "nbformat_minor": 2
}
