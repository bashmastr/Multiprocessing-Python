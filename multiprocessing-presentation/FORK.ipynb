{
 "cells": [
  {
   "cell_type": "markdown",
   "metadata": {
    "slideshow": {
     "slide_type": "slide"
    }
   },
   "source": [
    "# FORK\n",
    "- creat child process\n",
    "- process ID of the child process\n",
    "- both start execuation after create child process\n",
    "- child process Id 0"
   ]
  },
  {
   "cell_type": "code",
   "execution_count": 2,
   "metadata": {
    "slideshow": {
     "slide_type": "slide"
    }
   },
   "outputs": [],
   "source": [
    "import os"
   ]
  },
  {
   "cell_type": "code",
   "execution_count": 3,
   "metadata": {
    "slideshow": {
     "slide_type": "slide"
    }
   },
   "outputs": [
    {
     "name": "stdout",
     "output_type": "stream",
     "text": [
      "Hello world\n",
      "Hello world\n",
      "Hello world\n",
      "Hello world\n"
     ]
    }
   ],
   "source": [
    "def parent():\n",
    "    os.fork()\n",
    "    os.fork()\n",
    "    print(\"Hello world\")\n",
    "    \n",
    "parent()"
   ]
  },
  {
   "cell_type": "code",
   "execution_count": null,
   "metadata": {
    "slideshow": {
     "slide_type": "slide"
    }
   },
   "outputs": [
    {
     "name": "stdout",
     "output_type": "stream",
     "text": [
      "parent: 3329, child: 6191\n",
      "\n",
      "('\\nA new child ', 6191)\n",
      "q for quit / c for new fork'c'\n",
      "parent: 3329, child: 6213\n",
      "\n",
      "('\\nA new child ', 6213)\n",
      "q for quit / c for new fork'c'\n",
      "parent: 3329, child: 6239\n",
      "\n",
      "('\\nA new child ', 6239)\n"
     ]
    }
   ],
   "source": [
    "import os\n",
    "\n",
    "def child():\n",
    "   print('\\nA new child ',  os.getpid())\n",
    "   os._exit(0)  \n",
    "\n",
    "def parent():\n",
    "   while True:\n",
    "      newpid = os.fork()\n",
    "      if newpid == 0:\n",
    "         child()\n",
    "      else:\n",
    "         pids = (os.getpid(), newpid)\n",
    "         print(\"parent: %d, child: %d\\n\" % pids)\n",
    "      reply = input(\"q for quit / c for new fork\")\n",
    "      if reply == 'c': \n",
    "          continue\n",
    "      else:\n",
    "          break\n",
    "\n",
    "parent()"
   ]
  },
  {
   "cell_type": "code",
   "execution_count": null,
   "metadata": {},
   "outputs": [],
   "source": []
  }
 ],
 "metadata": {
  "celltoolbar": "Slideshow",
  "kernelspec": {
   "display_name": "Python 3",
   "language": "python",
   "name": "python3"
  },
  "language_info": {
   "codemirror_mode": {
    "name": "ipython",
    "version": 2
   },
   "file_extension": ".py",
   "mimetype": "text/x-python",
   "name": "python",
   "nbconvert_exporter": "python",
   "pygments_lexer": "ipython2",
   "version": "2.7.13"
  }
 },
 "nbformat": 4,
 "nbformat_minor": 2
}
